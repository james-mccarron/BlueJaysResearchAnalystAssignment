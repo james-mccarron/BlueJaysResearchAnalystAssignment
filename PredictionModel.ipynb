{
 "cells": [
  {
   "cell_type": "code",
   "execution_count": 27,
   "id": "0c78a276",
   "metadata": {},
   "outputs": [],
   "source": [
    "#Import all relevant libraries\n",
    "import pandas as pd\n",
    "from sklearn.model_selection import train_test_split, cross_val_score\n",
    "from sklearn.preprocessing import StandardScaler\n",
    "from sklearn.linear_model import LogisticRegression\n",
    "from sklearn.ensemble import RandomForestClassifier, GradientBoostingClassifier\n",
    "from sklearn.svm import SVC\n",
    "from sklearn.metrics import classification_report\n",
    "from sklearn.utils import resample\n",
    "import matplotlib.pyplot as plt\n",
    "import numpy as np\n",
    "import seaborn as sns"
   ]
  },
  {
   "cell_type": "code",
   "execution_count": 5,
   "id": "78cd0de5",
   "metadata": {
    "scrolled": true
   },
   "outputs": [
    {
     "data": {
      "text/html": [
       "<div>\n",
       "<style scoped>\n",
       "    .dataframe tbody tr th:only-of-type {\n",
       "        vertical-align: middle;\n",
       "    }\n",
       "\n",
       "    .dataframe tbody tr th {\n",
       "        vertical-align: top;\n",
       "    }\n",
       "\n",
       "    .dataframe thead th {\n",
       "        text-align: right;\n",
       "    }\n",
       "</style>\n",
       "<table border=\"1\" class=\"dataframe\">\n",
       "  <thead>\n",
       "    <tr style=\"text-align: right;\">\n",
       "      <th></th>\n",
       "      <th>InPlay</th>\n",
       "      <th>Velo</th>\n",
       "      <th>SpinRate</th>\n",
       "      <th>HorzBreak</th>\n",
       "      <th>InducedVertBreak</th>\n",
       "    </tr>\n",
       "  </thead>\n",
       "  <tbody>\n",
       "    <tr>\n",
       "      <th>0</th>\n",
       "      <td>0</td>\n",
       "      <td>95.33</td>\n",
       "      <td>2893.0</td>\n",
       "      <td>10.68</td>\n",
       "      <td>21.33</td>\n",
       "    </tr>\n",
       "    <tr>\n",
       "      <th>1</th>\n",
       "      <td>0</td>\n",
       "      <td>94.41</td>\n",
       "      <td>2038.0</td>\n",
       "      <td>17.13</td>\n",
       "      <td>5.77</td>\n",
       "    </tr>\n",
       "    <tr>\n",
       "      <th>2</th>\n",
       "      <td>0</td>\n",
       "      <td>90.48</td>\n",
       "      <td>2183.0</td>\n",
       "      <td>6.61</td>\n",
       "      <td>15.39</td>\n",
       "    </tr>\n",
       "    <tr>\n",
       "      <th>3</th>\n",
       "      <td>0</td>\n",
       "      <td>93.04</td>\n",
       "      <td>2279.0</td>\n",
       "      <td>9.33</td>\n",
       "      <td>14.57</td>\n",
       "    </tr>\n",
       "    <tr>\n",
       "      <th>4</th>\n",
       "      <td>0</td>\n",
       "      <td>95.17</td>\n",
       "      <td>2384.0</td>\n",
       "      <td>6.99</td>\n",
       "      <td>17.62</td>\n",
       "    </tr>\n",
       "    <tr>\n",
       "      <th>...</th>\n",
       "      <td>...</td>\n",
       "      <td>...</td>\n",
       "      <td>...</td>\n",
       "      <td>...</td>\n",
       "      <td>...</td>\n",
       "    </tr>\n",
       "    <tr>\n",
       "      <th>9995</th>\n",
       "      <td>0</td>\n",
       "      <td>93.61</td>\n",
       "      <td>2074.0</td>\n",
       "      <td>13.08</td>\n",
       "      <td>7.39</td>\n",
       "    </tr>\n",
       "    <tr>\n",
       "      <th>9996</th>\n",
       "      <td>1</td>\n",
       "      <td>90.72</td>\n",
       "      <td>1928.0</td>\n",
       "      <td>14.10</td>\n",
       "      <td>6.08</td>\n",
       "    </tr>\n",
       "    <tr>\n",
       "      <th>9997</th>\n",
       "      <td>1</td>\n",
       "      <td>94.19</td>\n",
       "      <td>2694.0</td>\n",
       "      <td>0.98</td>\n",
       "      <td>14.95</td>\n",
       "    </tr>\n",
       "    <tr>\n",
       "      <th>9998</th>\n",
       "      <td>0</td>\n",
       "      <td>92.65</td>\n",
       "      <td>2176.0</td>\n",
       "      <td>9.28</td>\n",
       "      <td>17.62</td>\n",
       "    </tr>\n",
       "    <tr>\n",
       "      <th>9999</th>\n",
       "      <td>0</td>\n",
       "      <td>91.14</td>\n",
       "      <td>2292.0</td>\n",
       "      <td>8.93</td>\n",
       "      <td>18.81</td>\n",
       "    </tr>\n",
       "  </tbody>\n",
       "</table>\n",
       "<p>10000 rows × 5 columns</p>\n",
       "</div>"
      ],
      "text/plain": [
       "      InPlay   Velo  SpinRate  HorzBreak  InducedVertBreak\n",
       "0          0  95.33    2893.0      10.68             21.33\n",
       "1          0  94.41    2038.0      17.13              5.77\n",
       "2          0  90.48    2183.0       6.61             15.39\n",
       "3          0  93.04    2279.0       9.33             14.57\n",
       "4          0  95.17    2384.0       6.99             17.62\n",
       "...      ...    ...       ...        ...               ...\n",
       "9995       0  93.61    2074.0      13.08              7.39\n",
       "9996       1  90.72    1928.0      14.10              6.08\n",
       "9997       1  94.19    2694.0       0.98             14.95\n",
       "9998       0  92.65    2176.0       9.28             17.62\n",
       "9999       0  91.14    2292.0       8.93             18.81\n",
       "\n",
       "[10000 rows x 5 columns]"
      ]
     },
     "execution_count": 5,
     "metadata": {},
     "output_type": "execute_result"
    }
   ],
   "source": [
    "#Load the training dataset\n",
    "df_train = pd.read_csv('training.csv')\n",
    "df_train"
   ]
  },
  {
   "cell_type": "code",
   "execution_count": 6,
   "id": "fbfe413e",
   "metadata": {},
   "outputs": [
    {
     "name": "stdout",
     "output_type": "stream",
     "text": [
      "The number of rows with Null values is 6.\n"
     ]
    }
   ],
   "source": [
    "#Check to see how many cells are Null\n",
    "num_rows_with_nan = df_train.isna().any(axis=1).sum()\n",
    "\n",
    "print(f\"The number of rows with Null values is {num_rows_with_nan}.\")"
   ]
  },
  {
   "cell_type": "code",
   "execution_count": 9,
   "id": "07b7f2b5",
   "metadata": {},
   "outputs": [],
   "source": [
    "#Since the number of Null cells is very small compared to the dataset,\n",
    "#I am going to remove these rows\n",
    "df_train.dropna(inplace=True)"
   ]
  },
  {
   "cell_type": "code",
   "execution_count": 7,
   "id": "4d3dd1a6",
   "metadata": {
    "scrolled": true
   },
   "outputs": [
    {
     "data": {
      "text/plain": [
       "(7283, 2717)"
      ]
     },
     "execution_count": 7,
     "metadata": {},
     "output_type": "execute_result"
    }
   ],
   "source": [
    "#Check for oversmapling\n",
    "counts = df_train['InPlay'].value_counts()\n",
    "count_zeros = counts[0]\n",
    "count_ones = counts[1]\n",
    "count_zeros, count_ones"
   ]
  },
  {
   "cell_type": "code",
   "execution_count": 12,
   "id": "64b72e00",
   "metadata": {},
   "outputs": [],
   "source": [
    "#Break up data\n",
    "X = df_train[['Velo', 'SpinRate', 'HorzBreak', 'InducedVertBreak']]\n",
    "y = df_train['InPlay']"
   ]
  },
  {
   "cell_type": "code",
   "execution_count": 13,
   "id": "09780fb3",
   "metadata": {},
   "outputs": [],
   "source": [
    "X_train, X_test, y_train, y_test = train_test_split(X, y, test_size=0.2, random_state=42)"
   ]
  },
  {
   "cell_type": "code",
   "execution_count": 14,
   "id": "be781df7",
   "metadata": {},
   "outputs": [],
   "source": [
    "#Include feature scaling\n",
    "scaler = StandardScaler()\n",
    "X_train = scaler.fit_transform(X_train)\n",
    "X_test = scaler.transform(X_test)"
   ]
  },
  {
   "cell_type": "code",
   "execution_count": 17,
   "id": "a22b2134",
   "metadata": {},
   "outputs": [],
   "source": [
    "#Initialize Logistic Regression, Random Forest, SVM, and Gradient Boost models to determine the optimal model\n",
    "log_reg = LogisticRegression(class_weight='balanced')\n",
    "rf = RandomForestClassifier()\n",
    "svm = SVC()\n",
    "gb = GradientBoostingClassifier()"
   ]
  },
  {
   "cell_type": "code",
   "execution_count": 19,
   "id": "0b03c66f",
   "metadata": {
    "scrolled": true
   },
   "outputs": [
    {
     "name": "stdout",
     "output_type": "stream",
     "text": [
      "__________________________________________________\n",
      "Classification Report for Logistic Regression\n",
      "              precision    recall  f1-score   support\n",
      "\n",
      "           0       0.77      0.62      0.69      1467\n",
      "           1       0.32      0.50      0.39       532\n",
      "\n",
      "    accuracy                           0.59      1999\n",
      "   macro avg       0.55      0.56      0.54      1999\n",
      "weighted avg       0.65      0.59      0.61      1999\n",
      "\n",
      "Accuracy for Logistic Regression: 0.5897948974487244\n",
      "__________________________________________________\n",
      "__________________________________________________\n",
      "Classification Report for Random Forest\n",
      "              precision    recall  f1-score   support\n",
      "\n",
      "           0       0.74      0.96      0.84      1467\n",
      "           1       0.38      0.07      0.12       532\n",
      "\n",
      "    accuracy                           0.72      1999\n",
      "   macro avg       0.56      0.51      0.48      1999\n",
      "weighted avg       0.65      0.72      0.64      1999\n",
      "\n",
      "Accuracy for Random Forest: 0.7223611805902952\n",
      "__________________________________________________\n",
      "__________________________________________________\n",
      "Classification Report for SVM\n",
      "              precision    recall  f1-score   support\n",
      "\n",
      "           0       0.73      1.00      0.85      1467\n",
      "           1       0.00      0.00      0.00       532\n",
      "\n",
      "    accuracy                           0.73      1999\n",
      "   macro avg       0.37      0.50      0.42      1999\n",
      "weighted avg       0.54      0.73      0.62      1999\n",
      "\n",
      "Accuracy for SVM: 0.7333666833416709\n",
      "__________________________________________________\n",
      "__________________________________________________\n",
      "Classification Report for Gradient Boosting\n",
      "              precision    recall  f1-score   support\n",
      "\n",
      "           0       0.73      1.00      0.85      1467\n",
      "           1       0.36      0.01      0.01       532\n",
      "\n",
      "    accuracy                           0.73      1999\n",
      "   macro avg       0.55      0.50      0.43      1999\n",
      "weighted avg       0.64      0.73      0.62      1999\n",
      "\n",
      "Accuracy for Gradient Boosting: 0.7323661830915458\n",
      "__________________________________________________\n"
     ]
    }
   ],
   "source": [
    "#Evaluate the models\n",
    "models = {'Logistic Regression': log_reg, 'Random Forest': rf, 'SVM': svm, 'Gradient Boosting': gb}\n",
    "for name, model in models.items():\n",
    "    model.fit(X_train, y_train)\n",
    "    y_pred = model.predict(X_test)\n",
    "    print(\"__________________________________________________\")\n",
    "    print(f\"Classification Report for {name}\")\n",
    "    print(classification_report(y_test, y_pred))\n",
    "    accuracy = model.score(X_test, y_test)\n",
    "    print(f\"Accuracy for {name}: {accuracy}\")\n",
    "    print(\"__________________________________________________\")"
   ]
  },
  {
   "cell_type": "code",
   "execution_count": 25,
   "id": "6f51fde8",
   "metadata": {
    "scrolled": true
   },
   "outputs": [
    {
     "name": "stdout",
     "output_type": "stream",
     "text": [
      "5-Fold Cross-Validation Scores: [0.71885943 0.71035518 0.71385693 0.70635318 0.70570571]\n",
      "Mean Cross-Validation Score: 0.7110260836123767\n",
      "Standard Deviation of Cross-Validation Scores: 0.004898317869524562\n"
     ]
    }
   ],
   "source": [
    "#Cross Validate the Random Forest Model (Best fitting)\n",
    "cv_scores = cross_val_score(rf, X, y, cv=5)\n",
    "print(\"5-Fold Cross-Validation Scores:\", cv_scores)\n",
    "print(\"Mean Cross-Validation Score:\", cv_scores.mean())\n",
    "print(\"Standard Deviation of Cross-Validation Scores:\", cv_scores.std())"
   ]
  },
  {
   "cell_type": "code",
   "execution_count": 33,
   "id": "b7230248",
   "metadata": {},
   "outputs": [],
   "source": [
    "#Initialize deploy data\n",
    "deploy_data = pd.read_csv(\"deploy.csv\")"
   ]
  },
  {
   "cell_type": "code",
   "execution_count": 38,
   "id": "60506e71",
   "metadata": {},
   "outputs": [
    {
     "name": "stdout",
     "output_type": "stream",
     "text": [
      "The number of rows with Null values is 13.\n"
     ]
    }
   ],
   "source": [
    "num_rows_with_nan = deploy_data.isna().any(axis=1).sum()\n",
    "\n",
    "print(f\"The number of rows with Null values is {num_rows_with_nan}.\")"
   ]
  },
  {
   "cell_type": "code",
   "execution_count": 42,
   "id": "fe9df9d9",
   "metadata": {},
   "outputs": [],
   "source": [
    "#As above, since the number of rows with Null values is very small, \n",
    "#I am going to remove them\n",
    "deploy_data.dropna(inplace=True)"
   ]
  },
  {
   "cell_type": "code",
   "execution_count": 43,
   "id": "556ff7e2",
   "metadata": {},
   "outputs": [],
   "source": [
    "deploy_X = deploy_data[['Velo', 'SpinRate', 'HorzBreak', 'InducedVertBreak']]\n",
    "deploy_X = scaler.transform(deploy_X)"
   ]
  },
  {
   "cell_type": "code",
   "execution_count": 44,
   "id": "73ea24ee",
   "metadata": {},
   "outputs": [],
   "source": [
    "#Save each models prediction for the deployment data\n",
    "for name, model in models.items():\n",
    "    deploy_pred = model.predict(deploy_X)\n",
    "    deploy_data[f'{name}_Predicted'] = deploy_pred"
   ]
  },
  {
   "cell_type": "code",
   "execution_count": 32,
   "id": "f8dc5664",
   "metadata": {},
   "outputs": [
    {
     "data": {
      "image/png": "[encoded data removed]",
      "text/plain": [
       "<Figure size 1000x600 with 1 Axes>"
      ]
     },
     "metadata": {},
     "output_type": "display_data"
    }
   ],
   "source": [
    "#Feature importance graph for question 2\n",
    "sns.set(style=\"whitegrid\")\n",
    "\n",
    "feature_importances = rf.feature_importances_\n",
    "feature_names = ['Velo', 'SpinRate', 'HorzBreakdown', 'InducedVertBreak']\n",
    "\n",
    "sorted_idx = feature_importances.argsort()\n",
    "\n",
    "df = pd.DataFrame({\n",
    "    'Feature': np.array(feature_names)[sorted_idx],\n",
    "    'Importance': feature_importances[sorted_idx]\n",
    "})\n",
    "\n",
    "plt.figure(figsize=(10, 6))\n",
    "ax = sns.barplot(x='Importance', y='Feature', data=df, palette='coolwarm')\n",
    "\n",
    "sns.barplot(x='Importance', y='Feature', data=df, palette='coolwarm')\n",
    "plt.xlabel('Importance', fontsize=14)\n",
    "plt.ylabel('Feature', fontsize=14)\n",
    "plt.title('Feature Importance - Random Forest', fontsize=16)\n",
    "for p in ax.patches:\n",
    "    width = p.get_width()\n",
    "    ax.text(width - 0.005,p.get_y() + p.get_height() / 2,'{:1.2f}%'.format(width * 100),ha=\"center\",va='center',fontsize=12)\n",
    "plt.show()"
   ]
  }
 ],
 "metadata": {
  "kernelspec": {
   "display_name": "Python 3 (ipykernel)",
   "language": "python",
   "name": "python3"
  },
  "language_info": {
   "codemirror_mode": {
    "name": "ipython",
    "version": 3
   },
   "file_extension": ".py",
   "mimetype": "text/x-python",
   "name": "python",
   "nbconvert_exporter": "python",
   "pygments_lexer": "ipython3",
   "version": "3.10.0"
  }
 },
 "nbformat": 4,
 "nbformat_minor": 5
}
